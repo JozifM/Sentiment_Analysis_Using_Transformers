{
 "cells": [
  {
   "cell_type": "code",
   "execution_count": null,
   "metadata": {},
   "outputs": [],
   "source": [
    "import torch\n",
    "import pandas as pd\n",
    "import numpy as np\n",
    "from torch.utils.data import Dataset, DataLoader, RandomSampler, SequentialSampler\n",
    "from transformers import BertForSequenceClassification, BertTokenizer\n",
    "from selenium import webdriver\n",
    "from webdriver_manager.chrome import ChromeDriverManager\n",
    "from tqdm import tqdm\n",
    "from wordcloud import WordCloud, STOPWORDS\n",
    "import spacy\n",
    "import matplotlib.pyplot as plt\n",
    "\n",
    "from functions import getdata\n",
    "from classes import amazon_dataset, amazon_dataset_run"
   ]
  },
  {
   "cell_type": "code",
   "execution_count": null,
   "metadata": {},
   "outputs": [],
   "source": [
    "model = 'model1'\n",
    "\n",
    "model_path = f'../models/{model}'"
   ]
  },
  {
   "cell_type": "code",
   "execution_count": null,
   "metadata": {},
   "outputs": [],
   "source": [
    "# Load model\n",
    "model = BertForSequenceClassification.from_pretrained(model_path)"
   ]
  },
  {
   "cell_type": "code",
   "execution_count": null,
   "metadata": {},
   "outputs": [],
   "source": [
    "#get web data if you'd rather\n",
    "'''options = webdriver.ChromeOptions()\n",
    "driver_path = ChromeDriverManager().install()\n",
    "\n",
    "reviews = getdata('https://www.amazon.com/product-reviews/B0828BJGD2/',options,driver_path)\n",
    "\n",
    "df = pd.Series(reviews)'''\n",
    "\n",
    "#get csv data, edit these as needed\n",
    "bose = pd.read_csv(\"\")\n",
    "sony = pd.read_csv(\"\")\n",
    "yuandidu = pd.read_csv(\"\")\n",
    "\n",
    "#if you want to use all the data it can be concatinated\n",
    "'''df = pd.concat([bose,sony,yuandidu])\n",
    "print(len(bose), len(sony), len(yuandidu),len(df),len(bose)+len(sony)+len(yuandidu))\n",
    "\n",
    "print(df.info())\n",
    "reviews = df[['text','rating']]\n",
    "\n",
    "bose_reviews = reviews[reviews['text'].str.contains('bose', case=False)]\n",
    "print(len(bose_reviews))'''\n",
    "\n",
    "df = sony[['text','rating']]\n",
    "\n",
    "reviews = df['text']"
   ]
  },
  {
   "cell_type": "code",
   "execution_count": null,
   "metadata": {},
   "outputs": [],
   "source": [
    "reviews"
   ]
  },
  {
   "cell_type": "code",
   "execution_count": null,
   "metadata": {},
   "outputs": [],
   "source": [
    "# Remove stop words and generate word cloud from remaining text for visualisation\n",
    "stopwords = set(STOPWORDS)\n",
    "wordcloud = WordCloud(stopwords=stopwords, background_color='white', max_words=100, width=800, height=400).generate(list(reviews)[0])\n",
    "\n",
    "plt.figure(figsize=(10, 5))\n",
    "plt.imshow(wordcloud, interpolation='bilinear')\n",
    "plt.axis('off')\n",
    "plt.show()"
   ]
  },
  {
   "cell_type": "code",
   "execution_count": null,
   "metadata": {},
   "outputs": [],
   "source": [
    "# Join text ready for text extraction\n",
    "joined_text = \" \".join(reviews)"
   ]
  },
  {
   "cell_type": "code",
   "execution_count": null,
   "metadata": {},
   "outputs": [],
   "source": [
    "def extract_relevant_paragraphs(text, keywords):\n",
    "    sentences = text.split('.')\n",
    "    relevant_sentences = []\n",
    "\n",
    "    # Loop through each sentence\n",
    "    for sentence in sentences:\n",
    "        # Check if any of the keywords are in the sentence\n",
    "        if any(keyword.lower() in sentence.lower() for keyword in keywords):\n",
    "            relevant_sentences.append(sentence.strip())\n",
    "\n",
    "    return relevant_sentences\n",
    "\n",
    "# Extract paragraphs discussing specified keywords\n",
    "bluetooth_paragraphs = extract_relevant_paragraphs(joined_text, [\"Bluetooth\",\"A2DP\"])\n",
    "print(\"Bluetooth Discussion:\", bluetooth_paragraphs)\n",
    "print(len(bluetooth_paragraphs))\n",
    "\n",
    "reviews_filtered = bluetooth_paragraphs"
   ]
  },
  {
   "cell_type": "code",
   "execution_count": null,
   "metadata": {},
   "outputs": [],
   "source": [
    "# Get the BERT tokenizer\n",
    "tokenizer = BertTokenizer.from_pretrained('bert-base-uncased')\n",
    "# Encode the reviews with the tokenizer\n",
    "reviews_encoded = tokenizer.batch_encode_plus(reviews_filtered, add_special_tokens=True, truncation=True, padding=True, return_tensors='pt', max_length=128, return_attention_mask=True)"
   ]
  },
  {
   "cell_type": "code",
   "execution_count": null,
   "metadata": {},
   "outputs": [],
   "source": [
    "dataset = amazon_dataset_run(reviews_encoded, labels=None)"
   ]
  },
  {
   "cell_type": "code",
   "execution_count": null,
   "metadata": {},
   "outputs": [],
   "source": [
    "dataloader = DataLoader(dataset, batch_size=1, shuffle=True)"
   ]
  },
  {
   "cell_type": "code",
   "execution_count": null,
   "metadata": {},
   "outputs": [],
   "source": [
    "# Use GPU if avalible, if not use CPU\n",
    "if torch.cuda.is_available():\n",
    "    device = torch.device(\"cuda\")\n",
    "else:\n",
    "    device = torch.device(\"cpu\")\n",
    "print(f'Using: {device}')\n",
    "model.to(device)"
   ]
  },
  {
   "cell_type": "code",
   "execution_count": null,
   "metadata": {},
   "outputs": [],
   "source": [
    "preds = []\n",
    "# Run model and make predictions\n",
    "for batch in tqdm(dataloader):\n",
    "    with torch.no_grad():\n",
    "        inputs = batch['input_ids'].to(device)\n",
    "        attention_mask = batch['attention_mask'].to(device)\n",
    "\n",
    "        model.eval()\n",
    "\n",
    "        output = model(inputs, attention_mask=attention_mask)\n",
    "\n",
    "        logits = output.logits\n",
    "        predictions = torch.argmax(logits, dim=-1)\n",
    "\n",
    "        preds.append(predictions.numpy())"
   ]
  },
  {
   "cell_type": "code",
   "execution_count": null,
   "metadata": {},
   "outputs": [],
   "source": [
    "# Print the mean score\n",
    "print(sum(preds)/len(preds))"
   ]
  }
 ],
 "metadata": {
  "kernelspec": {
   "display_name": "sentimentAnalysis",
   "language": "python",
   "name": "python3"
  },
  "language_info": {
   "codemirror_mode": {
    "name": "ipython",
    "version": 3
   },
   "file_extension": ".py",
   "mimetype": "text/x-python",
   "name": "python",
   "nbconvert_exporter": "python",
   "pygments_lexer": "ipython3",
   "version": "3.10.11"
  },
  "orig_nbformat": 4
 },
 "nbformat": 4,
 "nbformat_minor": 2
}
